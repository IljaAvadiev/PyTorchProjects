{
 "cells": [
  {
   "cell_type": "code",
   "execution_count": 2,
   "id": "sorted-consultation",
   "metadata": {},
   "outputs": [],
   "source": [
    "import torch\n",
    "import numpy as np"
   ]
  },
  {
   "cell_type": "markdown",
   "id": "digital-paper",
   "metadata": {},
   "source": [
    "# Tensor Creation in PyTorch"
   ]
  },
  {
   "cell_type": "markdown",
   "id": "higher-shift",
   "metadata": {},
   "source": [
    "## Setting the device to cuda or cpu"
   ]
  },
  {
   "cell_type": "code",
   "execution_count": 3,
   "id": "fatty-death",
   "metadata": {},
   "outputs": [],
   "source": [
    "device = torch.device('cuda:0' if torch.cuda.is_available() else 'cpu')"
   ]
  },
  {
   "cell_type": "code",
   "execution_count": 4,
   "id": "collective-manufacturer",
   "metadata": {},
   "outputs": [
    {
     "name": "stdout",
     "output_type": "stream",
     "text": [
      "cpu\n"
     ]
    }
   ],
   "source": [
    "print(device)"
   ]
  },
  {
   "cell_type": "markdown",
   "id": "split-gambling",
   "metadata": {},
   "source": [
    "## Create tensors"
   ]
  },
  {
   "cell_type": "markdown",
   "id": "delayed-sunday",
   "metadata": {},
   "source": [
    "### torch.tensor()"
   ]
  },
  {
   "cell_type": "code",
   "execution_count": 5,
   "id": "premium-catch",
   "metadata": {},
   "outputs": [],
   "source": [
    "t = torch.tensor([[1., 2.], [3., 4.]], device=device, dtype=torch.float32, requires_grad=True)"
   ]
  },
  {
   "cell_type": "code",
   "execution_count": 6,
   "id": "animated-writing",
   "metadata": {},
   "outputs": [
    {
     "name": "stdout",
     "output_type": "stream",
     "text": [
      "tensor([[1., 2.],\n",
      "        [3., 4.]], requires_grad=True)\n"
     ]
    }
   ],
   "source": [
    "print(t)"
   ]
  },
  {
   "cell_type": "code",
   "execution_count": 7,
   "id": "exposed-south",
   "metadata": {},
   "outputs": [
    {
     "data": {
      "text/plain": [
       "torch.float32"
      ]
     },
     "execution_count": 7,
     "metadata": {},
     "output_type": "execute_result"
    }
   ],
   "source": [
    "t.dtype"
   ]
  },
  {
   "cell_type": "code",
   "execution_count": 8,
   "id": "incoming-prague",
   "metadata": {},
   "outputs": [
    {
     "data": {
      "text/plain": [
       "torch.Size([2, 2])"
      ]
     },
     "execution_count": 8,
     "metadata": {},
     "output_type": "execute_result"
    }
   ],
   "source": [
    "t.shape"
   ]
  },
  {
   "cell_type": "code",
   "execution_count": 9,
   "id": "assisted-adventure",
   "metadata": {},
   "outputs": [
    {
     "data": {
      "text/plain": [
       "torch.Size([2, 2])"
      ]
     },
     "execution_count": 9,
     "metadata": {},
     "output_type": "execute_result"
    }
   ],
   "source": [
    "t.size()"
   ]
  },
  {
   "cell_type": "code",
   "execution_count": 10,
   "id": "twenty-structure",
   "metadata": {},
   "outputs": [
    {
     "data": {
      "text/plain": [
       "True"
      ]
     },
     "execution_count": 10,
     "metadata": {},
     "output_type": "execute_result"
    }
   ],
   "source": [
    "t.requires_grad"
   ]
  },
  {
   "cell_type": "markdown",
   "id": "applicable-processing",
   "metadata": {},
   "source": [
    "### torch.ones()"
   ]
  },
  {
   "cell_type": "code",
   "execution_count": 17,
   "id": "honey-universal",
   "metadata": {},
   "outputs": [],
   "source": [
    "t = torch.ones(2, 2)"
   ]
  },
  {
   "cell_type": "code",
   "execution_count": 20,
   "id": "fewer-reservation",
   "metadata": {},
   "outputs": [],
   "source": [
    "t = torch.ones(size=(2, 2))"
   ]
  },
  {
   "cell_type": "code",
   "execution_count": 21,
   "id": "sonic-monster",
   "metadata": {},
   "outputs": [
    {
     "data": {
      "text/plain": [
       "tensor([[1., 1.],\n",
       "        [1., 1.]])"
      ]
     },
     "execution_count": 21,
     "metadata": {},
     "output_type": "execute_result"
    }
   ],
   "source": [
    "t"
   ]
  },
  {
   "cell_type": "markdown",
   "id": "reflected-proxy",
   "metadata": {},
   "source": [
    "### torch.zeros()"
   ]
  },
  {
   "cell_type": "code",
   "execution_count": 22,
   "id": "uniform-happening",
   "metadata": {},
   "outputs": [],
   "source": [
    "t = torch.zeros(3, 3)"
   ]
  },
  {
   "cell_type": "code",
   "execution_count": 23,
   "id": "regulation-treatment",
   "metadata": {},
   "outputs": [
    {
     "data": {
      "text/plain": [
       "tensor([[0., 0., 0.],\n",
       "        [0., 0., 0.],\n",
       "        [0., 0., 0.]])"
      ]
     },
     "execution_count": 23,
     "metadata": {},
     "output_type": "execute_result"
    }
   ],
   "source": [
    "t"
   ]
  },
  {
   "cell_type": "markdown",
   "id": "imposed-tournament",
   "metadata": {},
   "source": [
    "### from_numpy()"
   ]
  },
  {
   "cell_type": "code",
   "execution_count": 36,
   "id": "daily-receipt",
   "metadata": {},
   "outputs": [],
   "source": [
    "a = np.array([[2.0, 1.0], [3.0, 2.0]], dtype=np.float32)"
   ]
  },
  {
   "cell_type": "code",
   "execution_count": 37,
   "id": "spiritual-cradle",
   "metadata": {},
   "outputs": [],
   "source": [
    "t = torch.from_numpy(a) # tensor and array share the same memory"
   ]
  },
  {
   "cell_type": "markdown",
   "id": "institutional-faith",
   "metadata": {},
   "source": [
    "### torch.arange()"
   ]
  },
  {
   "cell_type": "code",
   "execution_count": 39,
   "id": "czech-circus",
   "metadata": {},
   "outputs": [],
   "source": [
    "t = torch.arange(1, 10)"
   ]
  },
  {
   "cell_type": "code",
   "execution_count": 40,
   "id": "otherwise-international",
   "metadata": {},
   "outputs": [
    {
     "data": {
      "text/plain": [
       "tensor([1, 2, 3, 4, 5, 6, 7, 8, 9])"
      ]
     },
     "execution_count": 40,
     "metadata": {},
     "output_type": "execute_result"
    }
   ],
   "source": [
    "t"
   ]
  },
  {
   "cell_type": "markdown",
   "id": "welsh-concert",
   "metadata": {},
   "source": [
    "### torch.linspace()"
   ]
  },
  {
   "cell_type": "code",
   "execution_count": 47,
   "id": "imperial-blond",
   "metadata": {},
   "outputs": [],
   "source": [
    "t = torch.linspace(1, 10, 20)"
   ]
  },
  {
   "cell_type": "code",
   "execution_count": 46,
   "id": "gorgeous-amateur",
   "metadata": {},
   "outputs": [
    {
     "data": {
      "text/plain": [
       "tensor([ 1.0000,  1.4500,  1.9000,  2.3500,  2.8000,  3.2500,  3.7000,  4.1500,\n",
       "         4.6000,  5.0500,  5.5000,  5.9500,  6.4000,  6.8500,  7.3000,  7.7500,\n",
       "         8.2000,  8.6500,  9.1000,  9.5500, 10.0000])"
      ]
     },
     "execution_count": 46,
     "metadata": {},
     "output_type": "execute_result"
    }
   ],
   "source": [
    "t"
   ]
  },
  {
   "cell_type": "markdown",
   "id": "supposed-plane",
   "metadata": {},
   "source": [
    "### torch.logspace()"
   ]
  },
  {
   "cell_type": "code",
   "execution_count": 48,
   "id": "hidden-budapest",
   "metadata": {},
   "outputs": [],
   "source": [
    "t = torch.logspace(1, 10, 20)"
   ]
  },
  {
   "cell_type": "code",
   "execution_count": 49,
   "id": "acute-flavor",
   "metadata": {},
   "outputs": [
    {
     "data": {
      "text/plain": [
       "tensor([1.0000e+01, 2.9764e+01, 8.8587e+01, 2.6367e+02, 7.8476e+02, 2.3357e+03,\n",
       "        6.9519e+03, 2.0691e+04, 6.1585e+04, 1.8330e+05, 5.4556e+05, 1.6238e+06,\n",
       "        4.8329e+06, 1.4384e+07, 4.2813e+07, 1.2743e+08, 3.7927e+08, 1.1288e+09,\n",
       "        3.3598e+09, 1.0000e+10])"
      ]
     },
     "execution_count": 49,
     "metadata": {},
     "output_type": "execute_result"
    }
   ],
   "source": [
    "t"
   ]
  },
  {
   "cell_type": "markdown",
   "id": "thousand-nutrition",
   "metadata": {},
   "source": [
    "### torch.eye()"
   ]
  },
  {
   "cell_type": "code",
   "execution_count": 50,
   "id": "similar-disorder",
   "metadata": {},
   "outputs": [],
   "source": [
    "t = torch.eye(5)"
   ]
  },
  {
   "cell_type": "code",
   "execution_count": 51,
   "id": "stuck-mobility",
   "metadata": {},
   "outputs": [
    {
     "data": {
      "text/plain": [
       "tensor([[1., 0., 0., 0., 0.],\n",
       "        [0., 1., 0., 0., 0.],\n",
       "        [0., 0., 1., 0., 0.],\n",
       "        [0., 0., 0., 1., 0.],\n",
       "        [0., 0., 0., 0., 1.]])"
      ]
     },
     "execution_count": 51,
     "metadata": {},
     "output_type": "execute_result"
    }
   ],
   "source": [
    "t"
   ]
  },
  {
   "cell_type": "markdown",
   "id": "satisfactory-consumer",
   "metadata": {},
   "source": [
    "### torch.empty()"
   ]
  },
  {
   "cell_type": "code",
   "execution_count": 52,
   "id": "informal-dynamics",
   "metadata": {},
   "outputs": [],
   "source": [
    "t = torch.empty(size=(3, 3))"
   ]
  },
  {
   "cell_type": "code",
   "execution_count": 53,
   "id": "written-entrepreneur",
   "metadata": {},
   "outputs": [
    {
     "data": {
      "text/plain": [
       "tensor([[0.0000e+00, 0.0000e+00, 7.7052e+31],\n",
       "        [7.2148e+22, 2.5226e-18, 2.5930e-09],\n",
       "        [1.0186e-11, 3.0878e-09, 1.7188e-04]])"
      ]
     },
     "execution_count": 53,
     "metadata": {},
     "output_type": "execute_result"
    }
   ],
   "source": [
    "t"
   ]
  },
  {
   "cell_type": "markdown",
   "id": "finite-photography",
   "metadata": {},
   "source": [
    "### torch.full()"
   ]
  },
  {
   "cell_type": "code",
   "execution_count": 55,
   "id": "broadband-geology",
   "metadata": {},
   "outputs": [],
   "source": [
    "t = torch.full(size=(2, 2), fill_value=3)"
   ]
  },
  {
   "cell_type": "code",
   "execution_count": 56,
   "id": "twenty-prospect",
   "metadata": {},
   "outputs": [
    {
     "data": {
      "text/plain": [
       "tensor([[3, 3],\n",
       "        [3, 3]])"
      ]
     },
     "execution_count": 56,
     "metadata": {},
     "output_type": "execute_result"
    }
   ],
   "source": [
    "t"
   ]
  },
  {
   "cell_type": "markdown",
   "id": "modified-burton",
   "metadata": {},
   "source": [
    "### torch.rand() - numbers from range [0, 1)"
   ]
  },
  {
   "cell_type": "code",
   "execution_count": 4,
   "id": "amino-private",
   "metadata": {},
   "outputs": [
    {
     "data": {
      "text/plain": [
       "tensor([[0.3498, 0.6212],\n",
       "        [0.1384, 0.3782]])"
      ]
     },
     "execution_count": 4,
     "metadata": {},
     "output_type": "execute_result"
    }
   ],
   "source": [
    "torch.rand(2,2)"
   ]
  },
  {
   "cell_type": "markdown",
   "id": "lyric-pierre",
   "metadata": {},
   "source": [
    "### torch.randn() - standard normal dist"
   ]
  },
  {
   "cell_type": "code",
   "execution_count": 5,
   "id": "interior-romantic",
   "metadata": {},
   "outputs": [
    {
     "data": {
      "text/plain": [
       "tensor([[-0.6662, -0.1211],\n",
       "        [ 0.6124,  2.1823]])"
      ]
     },
     "execution_count": 5,
     "metadata": {},
     "output_type": "execute_result"
    }
   ],
   "source": [
    "torch.randn(2,2)"
   ]
  },
  {
   "cell_type": "markdown",
   "id": "suitable-ozone",
   "metadata": {},
   "source": [
    "### torch.randint()"
   ]
  },
  {
   "cell_type": "code",
   "execution_count": 6,
   "id": "prompt-consultancy",
   "metadata": {},
   "outputs": [
    {
     "data": {
      "text/plain": [
       "tensor([[1, 2],\n",
       "        [3, 2]])"
      ]
     },
     "execution_count": 6,
     "metadata": {},
     "output_type": "execute_result"
    }
   ],
   "source": [
    "torch.randint(1, 5, (2, 2))"
   ]
  },
  {
   "cell_type": "code",
   "execution_count": null,
   "id": "center-bidding",
   "metadata": {},
   "outputs": [],
   "source": []
  }
 ],
 "metadata": {
  "kernelspec": {
   "display_name": "Python 3",
   "language": "python",
   "name": "python3"
  },
  "language_info": {
   "codemirror_mode": {
    "name": "ipython",
    "version": 3
   },
   "file_extension": ".py",
   "mimetype": "text/x-python",
   "name": "python",
   "nbconvert_exporter": "python",
   "pygments_lexer": "ipython3",
   "version": "3.9.2"
  }
 },
 "nbformat": 4,
 "nbformat_minor": 5
}
