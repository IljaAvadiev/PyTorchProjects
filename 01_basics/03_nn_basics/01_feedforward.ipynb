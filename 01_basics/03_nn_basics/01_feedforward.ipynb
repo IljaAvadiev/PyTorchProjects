{
 "cells": [
  {
   "cell_type": "markdown",
   "id": "rough-concrete",
   "metadata": {},
   "source": [
    "# Feedforward NN"
   ]
  },
  {
   "cell_type": "code",
   "execution_count": 1,
   "id": "final-microphone",
   "metadata": {},
   "outputs": [],
   "source": [
    "import torch\n",
    "import torch.nn as nn\n",
    "import torch.nn.functional as F\n",
    "import torch.optim as optim\n",
    "import torchvision\n",
    "import torchvision.transforms as transforms\n",
    "from torch.utils.data import DataLoader"
   ]
  },
  {
   "cell_type": "code",
   "execution_count": 2,
   "id": "focal-enforcement",
   "metadata": {},
   "outputs": [],
   "source": [
    "DEVICE = torch.device('cuda:0' if torch.cuda.is_available() else 'cpu')"
   ]
  },
  {
   "cell_type": "code",
   "execution_count": 3,
   "id": "confident-extreme",
   "metadata": {},
   "outputs": [
    {
     "name": "stdout",
     "output_type": "stream",
     "text": [
      "The following device is being used: cpu\n"
     ]
    }
   ],
   "source": [
    "print(f'The following device is being used: {DEVICE}')"
   ]
  },
  {
   "cell_type": "markdown",
   "id": "common-bunch",
   "metadata": {},
   "source": [
    "## Configurations"
   ]
  },
  {
   "cell_type": "code",
   "execution_count": 4,
   "id": "considerable-tobacco",
   "metadata": {},
   "outputs": [],
   "source": [
    "# params\n",
    "epochs = 10\n",
    "batch_size = 32\n",
    "\n",
    "input_size = 28*28\n",
    "hidden_1 = 100\n",
    "hidden_2 = 50\n",
    "output_size = 10\n",
    "lr = 0.01"
   ]
  },
  {
   "cell_type": "markdown",
   "id": "encouraging-minnesota",
   "metadata": {},
   "source": [
    "## Getting the data"
   ]
  },
  {
   "cell_type": "code",
   "execution_count": 5,
   "id": "tender-duration",
   "metadata": {},
   "outputs": [],
   "source": [
    "# dataset\n",
    "train_mnist = torchvision.datasets.MNIST(root='./data', train=True, download=True, transform=transforms.ToTensor())\n",
    "test_mnist = torchvision.datasets.MNIST(root='./data', train=False, download=True, transform=transforms.ToTensor())"
   ]
  },
  {
   "cell_type": "code",
   "execution_count": 6,
   "id": "paperback-field",
   "metadata": {},
   "outputs": [],
   "source": [
    "# dataloader\n",
    "train_dataloader = DataLoader(dataset=train_mnist, batch_size=batch_size, shuffle=True)\n",
    "test_dataloader = DataLoader(dataset=train_mnist, batch_size=batch_size, shuffle=True)"
   ]
  },
  {
   "cell_type": "markdown",
   "id": "corresponding-vampire",
   "metadata": {},
   "source": [
    "## MNIST Fully Connected Neural Network"
   ]
  },
  {
   "cell_type": "code",
   "execution_count": 7,
   "id": "institutional-blogger",
   "metadata": {},
   "outputs": [],
   "source": [
    "class Model(nn.Module):\n",
    "    def __init__(self):\n",
    "        super(Model, self).__init__()\n",
    "        self.fc1 = nn.Linear(input_size, hidden_1)\n",
    "        self.fc2 = nn.Linear(hidden_1, hidden_2)\n",
    "        self.fc3 = nn.Linear(hidden_2, output_size)\n",
    "    \n",
    "    def forward(self, x):\n",
    "        x = self.fc1(x)\n",
    "        x = F.relu(x)\n",
    "        x = self.fc2(x)\n",
    "        x = F.relu(x)\n",
    "        x = self.fc3(x)\n",
    "        return x"
   ]
  },
  {
   "cell_type": "code",
   "execution_count": 8,
   "id": "exterior-carbon",
   "metadata": {},
   "outputs": [],
   "source": [
    "model = Model()\n",
    "model.to(DEVICE)\n",
    "criterion = nn.CrossEntropyLoss()\n",
    "optimizer = optim.Adam(model.parameters(), lr=lr)"
   ]
  },
  {
   "cell_type": "code",
   "execution_count": 9,
   "id": "elder-exemption",
   "metadata": {},
   "outputs": [
    {
     "name": "stdout",
     "output_type": "stream",
     "text": [
      "Epoch Nr: 0\n",
      "Epoch Nr: 1\n",
      "Epoch Nr: 2\n",
      "Epoch Nr: 3\n",
      "Epoch Nr: 4\n",
      "Epoch Nr: 5\n",
      "Epoch Nr: 6\n",
      "Epoch Nr: 7\n",
      "Epoch Nr: 8\n",
      "Epoch Nr: 9\n"
     ]
    }
   ],
   "source": [
    "for epoch in range(epochs):\n",
    "    print(f'Epoch Nr: {epoch}')\n",
    "    for images, labels in train_dataloader:\n",
    "        images = images.view(-1, input_size)\n",
    "        images = images.to(DEVICE)\n",
    "        labels = labels.to(DEVICE)\n",
    "        \n",
    "        preds = model(images)\n",
    "        loss = criterion(preds, labels)\n",
    "        \n",
    "        optimizer.zero_grad()\n",
    "        loss.backward()\n",
    "        optimizer.step()"
   ]
  },
  {
   "cell_type": "code",
   "execution_count": 11,
   "id": "european-defendant",
   "metadata": {},
   "outputs": [
    {
     "name": "stdout",
     "output_type": "stream",
     "text": [
      "0.9690833333333333\n"
     ]
    }
   ],
   "source": [
    "# calculate accuracy\n",
    "with torch.no_grad():\n",
    "    correct = 0\n",
    "    count = 0\n",
    "    for images, labels in test_dataloader:\n",
    "        images = images.view(-1, input_size)\n",
    "        images = images.to(DEVICE)\n",
    "        labels = labels.to(DEVICE)\n",
    "        prediction = model(images)\n",
    "        prediction = torch.argmax(prediction, dim=1)\n",
    "        count += labels.shape[0]\n",
    "        correct += torch.eq(prediction, labels).sum().item()\n",
    "        \n",
    "    accuracy = correct / count\n",
    "    print(accuracy)"
   ]
  },
  {
   "cell_type": "code",
   "execution_count": null,
   "id": "superior-detroit",
   "metadata": {},
   "outputs": [],
   "source": []
  }
 ],
 "metadata": {
  "kernelspec": {
   "display_name": "Python 3",
   "language": "python",
   "name": "python3"
  },
  "language_info": {
   "codemirror_mode": {
    "name": "ipython",
    "version": 3
   },
   "file_extension": ".py",
   "mimetype": "text/x-python",
   "name": "python",
   "nbconvert_exporter": "python",
   "pygments_lexer": "ipython3",
   "version": "3.9.2"
  }
 },
 "nbformat": 4,
 "nbformat_minor": 5
}
