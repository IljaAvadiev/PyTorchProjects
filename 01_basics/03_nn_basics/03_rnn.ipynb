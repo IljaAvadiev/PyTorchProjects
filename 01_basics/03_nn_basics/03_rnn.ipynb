{
 "cells": [
  {
   "cell_type": "markdown",
   "id": "chicken-gamma",
   "metadata": {},
   "source": [
    "# Simple Recurrent Neural Networks"
   ]
  },
  {
   "cell_type": "markdown",
   "id": "hazardous-charleston",
   "metadata": {},
   "source": [
    "This notebook is inspired by the book \"Hands-On Machine with Scikit-Learn , Keras & TensorFlow\" chapter 15, but here we use PyTorch instead of Keras."
   ]
  },
  {
   "cell_type": "code",
   "execution_count": 1,
   "id": "banned-verse",
   "metadata": {},
   "outputs": [],
   "source": [
    "import numpy as np\n",
    "from tqdm.notebook import tqdm\n",
    "import torch\n",
    "import torch.nn as nn\n",
    "import torch.optim as optim\n",
    "import matplotlib.pyplot as plt\n",
    "import random\n",
    "from torch.utils.data import Dataset, DataLoader"
   ]
  },
  {
   "cell_type": "code",
   "execution_count": 2,
   "id": "present-refrigerator",
   "metadata": {},
   "outputs": [],
   "source": [
    "# see: https://pythonforfinance.net/2016/11/28/monte-carlo-simulation-in-python/\n",
    "def random_walk(n_steps, starting_value, mu, sigma):\n",
    "    daily_returns = np.random.normal(mu/n_steps, sigma/np.sqrt(n_steps), n_steps)+1\n",
    "    time_series = []\n",
    "    time_series.append(starting_value)\n",
    "    \n",
    "    for daily_return in daily_returns:\n",
    "        time_series.append(time_series[-1] * daily_return)\n",
    "    \n",
    "    return time_series"
   ]
  },
  {
   "cell_type": "code",
   "execution_count": 3,
   "id": "refined-nursery",
   "metadata": {},
   "outputs": [],
   "source": [
    "NUM_SEQUENCES = 10000\n",
    "N_STEPS = 100\n",
    "STARTING_VALUE = 100"
   ]
  },
  {
   "cell_type": "code",
   "execution_count": 4,
   "id": "collective-gathering",
   "metadata": {},
   "outputs": [],
   "source": [
    "time_series = []\n",
    "for sequence in range(NUM_SEQUENCES):\n",
    "    mu = random.gauss(0, 0.3)\n",
    "    sigma = abs(random.gauss(0, 0.2))\n",
    "    \n",
    "    \n",
    "    time_series.append(random_walk(N_STEPS, STARTING_VALUE, mu, sigma))\n",
    "\n",
    "time_series = np.array(time_series)\n",
    "time_series = time_series[..., np.newaxis]"
   ]
  },
  {
   "cell_type": "code",
   "execution_count": 5,
   "id": "governing-legislation",
   "metadata": {},
   "outputs": [
    {
     "data": {
      "text/plain": [
       "(10000, 101, 1)"
      ]
     },
     "execution_count": 5,
     "metadata": {},
     "output_type": "execute_result"
    }
   ],
   "source": [
    "time_series.shape"
   ]
  },
  {
   "cell_type": "code",
   "execution_count": 6,
   "id": "worse-school",
   "metadata": {},
   "outputs": [
    {
     "data": {
      "text/plain": [
       "[<matplotlib.lines.Line2D at 0x7fdf8c9ba5e0>]"
      ]
     },
     "execution_count": 6,
     "metadata": {},
     "output_type": "execute_result"
    },
    {
     "data": {
      "image/png": "[encoded data removed]",
      "text/plain": [
       "<Figure size 432x288 with 1 Axes>"
      ]
     },
     "metadata": {
      "needs_background": "light"
     },
     "output_type": "display_data"
    }
   ],
   "source": [
    "plt.plot(time_series[0])"
   ]
  },
  {
   "cell_type": "code",
   "execution_count": 7,
   "id": "limited-malpractice",
   "metadata": {},
   "outputs": [],
   "source": [
    "X_train, y_train = time_series[:7000, :N_STEPS], time_series[:7000, -1]\n",
    "X_valid, y_valid = time_series[7000:9000, :N_STEPS], time_series[7000:9000, -1]\n",
    "X_test, y_test = time_series[9000, :N_STEPS], time_series[9000, -1]"
   ]
  },
  {
   "cell_type": "code",
   "execution_count": 8,
   "id": "behavioral-surgeon",
   "metadata": {},
   "outputs": [
    {
     "data": {
      "text/plain": [
       "(7000, 100, 1)"
      ]
     },
     "execution_count": 8,
     "metadata": {},
     "output_type": "execute_result"
    }
   ],
   "source": [
    "X_train.shape"
   ]
  },
  {
   "cell_type": "markdown",
   "id": "terminal-harrison",
   "metadata": {},
   "source": [
    "## Neural Network paramteters"
   ]
  },
  {
   "cell_type": "code",
   "execution_count": 9,
   "id": "genetic-withdrawal",
   "metadata": {},
   "outputs": [],
   "source": [
    "BATCH_SIZE = 32\n",
    "EPOCHS = 20\n",
    "LR = 0.001"
   ]
  },
  {
   "cell_type": "markdown",
   "id": "enormous-compatibility",
   "metadata": {},
   "source": [
    "## Create Dataset and Dataloader"
   ]
  },
  {
   "cell_type": "code",
   "execution_count": 10,
   "id": "tracked-tension",
   "metadata": {},
   "outputs": [],
   "source": [
    "class TS_Dataset(Dataset):\n",
    "    def __init__(self, x, y):\n",
    "        super(TS_Dataset, self).__init__()\n",
    "        self.x = torch.tensor(x, dtype=torch.float32)\n",
    "        self.y = torch.tensor(y, dtype=torch.float32)\n",
    "        \n",
    "    def __len__(self):\n",
    "        return len(self.y)\n",
    "    \n",
    "    def __getitem__(self, index):\n",
    "        return self.x[index], self.y[index]"
   ]
  },
  {
   "cell_type": "code",
   "execution_count": 11,
   "id": "expensive-concord",
   "metadata": {},
   "outputs": [],
   "source": [
    "train_ds = TS_Dataset(X_train, y_train)\n",
    "valid_ds = TS_Dataset(X_valid, y_valid)\n",
    "test_ds = TS_Dataset(X_test, y_test)"
   ]
  },
  {
   "cell_type": "code",
   "execution_count": 12,
   "id": "south-natural",
   "metadata": {},
   "outputs": [],
   "source": [
    "train_dataloader = DataLoader(dataset=train_ds, shuffle=True, batch_size=BATCH_SIZE)\n",
    "test_dataloader = DataLoader(dataset=test_ds, shuffle=True, batch_size=BATCH_SIZE)\n",
    "valid_dataloader = DataLoader(dataset=valid_ds, shuffle=True, batch_size=BATCH_SIZE)"
   ]
  },
  {
   "cell_type": "markdown",
   "id": "normal-fault",
   "metadata": {},
   "source": [
    "## Train and Test functions"
   ]
  },
  {
   "cell_type": "code",
   "execution_count": 13,
   "id": "hollow-standing",
   "metadata": {},
   "outputs": [],
   "source": [
    "#train function\n",
    "def train(epochs, data_loader, model, optimizer):\n",
    "    for epoch in tqdm(range(epochs)):\n",
    "        losses = []\n",
    "        for x, y in data_loader:\n",
    "            preds = model(x)\n",
    "\n",
    "            #mean square root error\n",
    "            \n",
    "            loss = (preds - y).pow(2).sqrt().mean()\n",
    "            optimizer.zero_grad()\n",
    "            \n",
    "            loss.backward()\n",
    "            optimizer.step()\n",
    "            losses.append(loss.detach().item())\n",
    "            \n",
    "\n",
    "        print(np.array(losses).mean())\n"
   ]
  },
  {
   "cell_type": "code",
   "execution_count": 14,
   "id": "modular-basement",
   "metadata": {},
   "outputs": [],
   "source": [
    "def test(data_loader, model):\n",
    "    losses = []\n",
    "    for x, y in data_loader:\n",
    "        with torch.no_grad():\n",
    "            preds = model(x)\n",
    "\n",
    "            #mean square root error\n",
    "            loss = (preds - y).pow(2).sqrt().mean()\n",
    "            losses.append(loss.detach().item())\n",
    "\n",
    "    print(np.array(losses).mean())\n"
   ]
  },
  {
   "cell_type": "markdown",
   "id": "formed-suicide",
   "metadata": {},
   "source": [
    "## Baseline Metrics"
   ]
  },
  {
   "cell_type": "markdown",
   "id": "different-disposition",
   "metadata": {},
   "source": [
    "### Naive Forecasting"
   ]
  },
  {
   "cell_type": "code",
   "execution_count": 15,
   "id": "israeli-sector",
   "metadata": {},
   "outputs": [],
   "source": [
    "metric = nn.MSELoss()"
   ]
  },
  {
   "cell_type": "code",
   "execution_count": 16,
   "id": "funny-tuition",
   "metadata": {},
   "outputs": [],
   "source": [
    "y_pred = X_valid[:, -1]"
   ]
  },
  {
   "cell_type": "code",
   "execution_count": 17,
   "id": "awful-boutique",
   "metadata": {},
   "outputs": [],
   "source": [
    "loss = metric(torch.tensor(y_valid), torch.tensor(y_pred))"
   ]
  },
  {
   "cell_type": "code",
   "execution_count": 18,
   "id": "expanded-calendar",
   "metadata": {},
   "outputs": [
    {
     "data": {
      "text/plain": [
       "5.584623755953029"
      ]
     },
     "execution_count": 18,
     "metadata": {},
     "output_type": "execute_result"
    }
   ],
   "source": [
    "# naive forecasting\n",
    "loss.item()"
   ]
  },
  {
   "cell_type": "markdown",
   "id": "elect-princeton",
   "metadata": {},
   "source": [
    "### Linear Regression"
   ]
  },
  {
   "cell_type": "code",
   "execution_count": 19,
   "id": "periodic-forth",
   "metadata": {},
   "outputs": [],
   "source": [
    "class FC(nn.Module):\n",
    "    def __init__(self):\n",
    "        super(FC, self).__init__()\n",
    "        self.fc = nn.Linear(in_features=N_STEPS, out_features=1)\n",
    "        \n",
    "    def forward(self, x):\n",
    "        x = x.view(-1, x.shape[1] * x.shape[2])\n",
    "        x = self.fc(x)\n",
    "        return x"
   ]
  },
  {
   "cell_type": "code",
   "execution_count": 20,
   "id": "fixed-johnston",
   "metadata": {},
   "outputs": [],
   "source": [
    "fc_model = FC()\n",
    "fc_optimizer = optim.Adam(fc_model.parameters(), lr=LR)"
   ]
  },
  {
   "cell_type": "code",
   "execution_count": 21,
   "id": "pediatric-partition",
   "metadata": {},
   "outputs": [
    {
     "data": {
      "application/vnd.jupyter.widget-view+json": {
       "model_id": "6ee22828560e4e0ab15567e13b12f0a2",
       "version_major": 2,
       "version_minor": 0
      },
      "text/plain": [
       "  0%|          | 0/20 [00:00<?, ?it/s]"
      ]
     },
     "metadata": {},
     "output_type": "display_data"
    },
    {
     "name": "stdout",
     "output_type": "stream",
     "text": [
      "8.568820853211564\n",
      "3.6283807482349273\n",
      "3.1354273143968627\n",
      "2.975725065627599\n",
      "2.8161066345972556\n",
      "2.7118225549454014\n",
      "2.6317244583068917\n",
      "2.5756018472044437\n",
      "2.5381619086548617\n",
      "2.505088991770461\n",
      "2.426044875083993\n",
      "2.43701924744262\n",
      "2.5906297420257847\n",
      "2.296968643523787\n",
      "2.378154080208034\n",
      "2.3660253019637714\n",
      "2.254390325176117\n",
      "2.328324553629035\n",
      "2.228806768922501\n",
      "2.2912163429608627\n"
     ]
    }
   ],
   "source": [
    "train(EPOCHS, train_dataloader, fc_model, fc_optimizer)"
   ]
  },
  {
   "cell_type": "code",
   "execution_count": 22,
   "id": "synthetic-cancellation",
   "metadata": {},
   "outputs": [
    {
     "name": "stdout",
     "output_type": "stream",
     "text": [
      "1.983227949293833\n"
     ]
    }
   ],
   "source": [
    "test(valid_dataloader, fc_model)"
   ]
  },
  {
   "cell_type": "markdown",
   "id": "hybrid-investor",
   "metadata": {},
   "source": [
    "## Simple RNN"
   ]
  },
  {
   "cell_type": "code",
   "execution_count": 23,
   "id": "written-caution",
   "metadata": {},
   "outputs": [],
   "source": [
    "test = nn.RNN(input_size=5, hidden_size=2, num_layers=1, batch_first=True)"
   ]
  },
  {
   "cell_type": "code",
   "execution_count": 24,
   "id": "limited-canon",
   "metadata": {},
   "outputs": [],
   "source": [
    "class RNN(nn.Module):\n",
    "    def __init__(self):\n",
    "        super(RNN, self).__init__()\n",
    "        #input_size is the dimensionality of the input (1 in the case of our univariate timeseries)\n",
    "        #hidden_size is the dimensionality of the output of the single cell\n",
    "        self.rnn = nn.RNN(input_size=1, hidden_size=5, num_layers=1, batch_first=True)\n",
    "        self.fc = nn.Linear(5, 1)\n",
    "        \n",
    "    def forward(self, x):\n",
    "        batch_size = x.shape[0]\n",
    "        h0 = torch.zeros(1, batch_size, 5)\n",
    "        \n",
    "        _, h = self.rnn(x, h0)\n",
    "        h = h[0]\n",
    "        return self.fc(h)"
   ]
  },
  {
   "cell_type": "code",
   "execution_count": 25,
   "id": "expected-satin",
   "metadata": {},
   "outputs": [],
   "source": [
    "rnn_model = RNN()\n",
    "rnn_optimizer = optim.Adam(rnn_model.parameters(), lr=LR)"
   ]
  },
  {
   "cell_type": "code",
   "execution_count": 26,
   "id": "fourth-haven",
   "metadata": {},
   "outputs": [
    {
     "data": {
      "application/vnd.jupyter.widget-view+json": {
       "model_id": "5948dfccfc234a9f9ddf82b13c70e3b3",
       "version_major": 2,
       "version_minor": 0
      },
      "text/plain": [
       "  0%|          | 0/20 [00:00<?, ?it/s]"
      ]
     },
     "metadata": {},
     "output_type": "display_data"
    },
    {
     "name": "stdout",
     "output_type": "stream",
     "text": [
      "103.96871045953063\n",
      "102.14590753703357\n",
      "100.8379280752243\n",
      "99.50045992359179\n",
      "98.18504009508106\n",
      "96.89501113543227\n",
      "95.57277024499902\n",
      "94.25735752332156\n",
      "92.92721665613183\n",
      "91.62750801539312\n",
      "90.30601567655938\n",
      "89.00395704295538\n",
      "87.67561709608661\n",
      "86.36526050306347\n",
      "85.05668988510898\n",
      "83.72985059485588\n",
      "82.43832183210817\n",
      "81.1267639229831\n",
      "79.8182601928711\n",
      "78.49162989228827\n"
     ]
    }
   ],
   "source": [
    "train(EPOCHS, train_dataloader, rnn_model, rnn_optimizer)"
   ]
  },
  {
   "cell_type": "code",
   "execution_count": null,
   "id": "streaming-austria",
   "metadata": {},
   "outputs": [],
   "source": []
  }
 ],
 "metadata": {
  "kernelspec": {
   "display_name": "Python 3",
   "language": "python",
   "name": "python3"
  },
  "language_info": {
   "codemirror_mode": {
    "name": "ipython",
    "version": 3
   },
   "file_extension": ".py",
   "mimetype": "text/x-python",
   "name": "python",
   "nbconvert_exporter": "python",
   "pygments_lexer": "ipython3",
   "version": "3.9.2"
  }
 },
 "nbformat": 4,
 "nbformat_minor": 5
}
