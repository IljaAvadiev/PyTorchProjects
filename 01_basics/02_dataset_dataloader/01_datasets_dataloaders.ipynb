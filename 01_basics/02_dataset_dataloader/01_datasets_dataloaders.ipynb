{
 "cells": [
  {
   "cell_type": "markdown",
   "id": "cognitive-sunrise",
   "metadata": {},
   "source": [
    "# Datasets, Dataloaders"
   ]
  },
  {
   "cell_type": "markdown",
   "id": "straight-saver",
   "metadata": {},
   "source": [
    "## Custom Dataset"
   ]
  },
  {
   "cell_type": "code",
   "execution_count": 5,
   "id": "fluid-shock",
   "metadata": {},
   "outputs": [],
   "source": [
    "import torch\n",
    "from torch.utils.data import Dataset\n",
    "from torch.utils.data import DataLoader"
   ]
  },
  {
   "cell_type": "markdown",
   "id": "protective-mapping",
   "metadata": {},
   "source": [
    "### Map Style Datasets"
   ]
  },
  {
   "cell_type": "code",
   "execution_count": 6,
   "id": "naval-oxygen",
   "metadata": {},
   "outputs": [],
   "source": [
    "# Have to implement the __getitem__ function and potentially the __len__() function\n",
    "# Inherits from Dataset\n",
    "\n",
    "class CustomMapDataset(Dataset):\n",
    "    def __init__(self, max_num):\n",
    "        self._nums = list(range(0, max_num))\n",
    "        \n",
    "    def __len__(self):\n",
    "        return len(self._nums)\n",
    "    \n",
    "    def __getitem__(self, index):\n",
    "        return self._nums[index]"
   ]
  },
  {
   "cell_type": "code",
   "execution_count": 18,
   "id": "nervous-frequency",
   "metadata": {},
   "outputs": [],
   "source": [
    "dataset = CustomMapDataset(5)"
   ]
  },
  {
   "cell_type": "code",
   "execution_count": 19,
   "id": "legal-integral",
   "metadata": {},
   "outputs": [
    {
     "name": "stdout",
     "output_type": "stream",
     "text": [
      "0\n",
      "4\n"
     ]
    }
   ],
   "source": [
    "# you can access individual elements\n",
    "print(dataset[0])\n",
    "print(dataset[4])"
   ]
  },
  {
   "cell_type": "code",
   "execution_count": 20,
   "id": "distant-hanging",
   "metadata": {},
   "outputs": [
    {
     "data": {
      "text/plain": [
       "5"
      ]
     },
     "execution_count": 20,
     "metadata": {},
     "output_type": "execute_result"
    }
   ],
   "source": [
    "#you can access the lenght of the dataset\n",
    "len(dataset)"
   ]
  },
  {
   "cell_type": "code",
   "execution_count": 21,
   "id": "romantic-reserve",
   "metadata": {},
   "outputs": [
    {
     "name": "stdout",
     "output_type": "stream",
     "text": [
      "0\n",
      "1\n",
      "2\n",
      "3\n",
      "4\n"
     ]
    }
   ],
   "source": [
    "# and you can iterate throuth the dataset\n",
    "for data in dataset:\n",
    "    print(data)"
   ]
  },
  {
   "cell_type": "markdown",
   "id": "pressed-elite",
   "metadata": {},
   "source": [
    "## DataLoader"
   ]
  },
  {
   "cell_type": "code",
   "execution_count": 34,
   "id": "material-bottle",
   "metadata": {},
   "outputs": [],
   "source": [
    "dataset = CustomMapDataset(100)\n",
    "dataloader = DataLoader(dataset=dataset, batch_size=32, shuffle=True)"
   ]
  },
  {
   "cell_type": "code",
   "execution_count": 35,
   "id": "three-harassment",
   "metadata": {},
   "outputs": [
    {
     "name": "stdout",
     "output_type": "stream",
     "text": [
      "tensor([63, 13, 15, 10, 24,  4, 50, 36, 57, 78,  6,  8, 51, 65, 48, 86, 23, 77,\n",
      "         3, 94,  7, 81, 93, 26, 30, 27, 47, 99, 40, 44, 67,  9])\n",
      "tensor([73, 87, 95, 97, 91, 89, 41,  1,  2, 33, 80, 68, 11,  0, 20, 42, 60, 83,\n",
      "        84, 25, 69, 92, 37, 88, 71, 21, 55, 39, 49, 96, 28, 53])\n",
      "tensor([43, 82, 75, 22, 64, 85, 70, 38, 61, 98, 72, 56, 90, 32, 58, 59, 17, 46,\n",
      "        19, 34, 45, 18, 54, 29, 62, 52, 31, 14, 66, 12,  5, 35])\n",
      "tensor([76, 16, 74, 79])\n"
     ]
    }
   ],
   "source": [
    "for data in dataloader:\n",
    "    print(data)"
   ]
  }
 ],
 "metadata": {
  "kernelspec": {
   "display_name": "Python 3",
   "language": "python",
   "name": "python3"
  },
  "language_info": {
   "codemirror_mode": {
    "name": "ipython",
    "version": 3
   },
   "file_extension": ".py",
   "mimetype": "text/x-python",
   "name": "python",
   "nbconvert_exporter": "python",
   "pygments_lexer": "ipython3",
   "version": "3.9.2"
  }
 },
 "nbformat": 4,
 "nbformat_minor": 5
}
