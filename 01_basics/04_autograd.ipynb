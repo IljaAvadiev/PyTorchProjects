{
 "cells": [
  {
   "cell_type": "markdown",
   "id": "nonprofit-glossary",
   "metadata": {},
   "source": [
    "# Autograd"
   ]
  },
  {
   "cell_type": "code",
   "execution_count": 84,
   "id": "suburban-syndicate",
   "metadata": {},
   "outputs": [],
   "source": [
    "import torch"
   ]
  },
  {
   "cell_type": "code",
   "execution_count": 85,
   "id": "variable-worker",
   "metadata": {},
   "outputs": [],
   "source": [
    "# solve the folloving, provided w1 = 2, w2 = 3\n",
    "# x*w1**2 - y*w2 - 7 "
   ]
  },
  {
   "cell_type": "code",
   "execution_count": 86,
   "id": "compliant-question",
   "metadata": {},
   "outputs": [],
   "source": [
    "w1 = torch.randn(1, requires_grad=True)\n",
    "w2 = torch.randn(1, requires_grad=True)"
   ]
  },
  {
   "cell_type": "code",
   "execution_count": 87,
   "id": "indie-small",
   "metadata": {},
   "outputs": [],
   "source": [
    "x = torch.tensor([1, 2, 3])\n",
    "y = torch.tensor([2, 3, 1])\n",
    "outputs = torch.tensor([-9, -8, 2])"
   ]
  },
  {
   "cell_type": "code",
   "execution_count": 88,
   "id": "vital-young",
   "metadata": {},
   "outputs": [
    {
     "name": "stdout",
     "output_type": "stream",
     "text": [
      "epoch 0, w1: tensor([1.9839], requires_grad=True), w2: tensor([1.1228], requires_grad=True)\n",
      "epoch 100, w1: tensor([1.8284], requires_grad=True), w2: tensor([2.4694], requires_grad=True)\n",
      "epoch 200, w1: tensor([2.0232], requires_grad=True), w2: tensor([2.9694], requires_grad=True)\n",
      "epoch 300, w1: tensor([1.9235], requires_grad=True), w2: tensor([3.0028], requires_grad=True)\n",
      "epoch 400, w1: tensor([1.9810], requires_grad=True), w2: tensor([2.9961], requires_grad=True)\n",
      "epoch 500, w1: tensor([1.9587], requires_grad=True), w2: tensor([2.9961], requires_grad=True)\n",
      "epoch 600, w1: tensor([1.9367], requires_grad=True), w2: tensor([2.9961], requires_grad=True)\n",
      "epoch 700, w1: tensor([2.0778], requires_grad=True), w2: tensor([2.9828], requires_grad=True)\n",
      "epoch 800, w1: tensor([1.9978], requires_grad=True), w2: tensor([2.9761], requires_grad=True)\n",
      "epoch 900, w1: tensor([1.9240], requires_grad=True), w2: tensor([2.9961], requires_grad=True)\n"
     ]
    }
   ],
   "source": [
    "alpha = 0.01\n",
    "epochs = 10\n",
    "for epoch in range(1000):\n",
    "    preds = x * w1**2 - y*w2 - 7\n",
    "    loss = torch.sqrt((outputs - preds)**2).mean()\n",
    "\n",
    "    loss.backward()\n",
    "\n",
    "    with torch.no_grad():\n",
    "        w1 -= alpha * w1.grad\n",
    "        w2 -= alpha * w2.grad\n",
    "\n",
    "    w1.grad.zero_()\n",
    "    w2.grad.zero_()\n",
    "    \n",
    "    if (epoch) % 100 == 0:\n",
    "        print(f'epoch {epoch}, w1: {w1}, w2: {w2}')"
   ]
  },
  {
   "cell_type": "code",
   "execution_count": null,
   "id": "incorrect-greenhouse",
   "metadata": {},
   "outputs": [],
   "source": []
  },
  {
   "cell_type": "code",
   "execution_count": null,
   "id": "married-denial",
   "metadata": {},
   "outputs": [],
   "source": []
  }
 ],
 "metadata": {
  "kernelspec": {
   "display_name": "Python 3",
   "language": "python",
   "name": "python3"
  },
  "language_info": {
   "codemirror_mode": {
    "name": "ipython",
    "version": 3
   },
   "file_extension": ".py",
   "mimetype": "text/x-python",
   "name": "python",
   "nbconvert_exporter": "python",
   "pygments_lexer": "ipython3",
   "version": "3.9.2"
  }
 },
 "nbformat": 4,
 "nbformat_minor": 5
}
