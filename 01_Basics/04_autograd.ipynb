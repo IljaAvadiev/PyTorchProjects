{
 "cells": [
  {
   "cell_type": "markdown",
   "id": "competitive-growing",
   "metadata": {},
   "source": [
    "# Autograd"
   ]
  },
  {
   "cell_type": "code",
   "execution_count": 78,
   "id": "minimal-copyright",
   "metadata": {},
   "outputs": [],
   "source": [
    "import torch"
   ]
  },
  {
   "cell_type": "code",
   "execution_count": 79,
   "id": "broke-tiffany",
   "metadata": {},
   "outputs": [],
   "source": [
    "# solve the folloving, provided w1 = 2, w2 = 3\n",
    "# x*w1**2 - y*w2 - 7 "
   ]
  },
  {
   "cell_type": "code",
   "execution_count": 80,
   "id": "prescribed-shaft",
   "metadata": {},
   "outputs": [],
   "source": [
    "w1 = torch.randn(1, requires_grad=True)\n",
    "w2 = torch.randn(1, requires_grad=True)"
   ]
  },
  {
   "cell_type": "code",
   "execution_count": 81,
   "id": "incident-concentrate",
   "metadata": {},
   "outputs": [],
   "source": [
    "x = torch.tensor([1, 2, 3])\n",
    "y = torch.tensor([2, 3, 1])\n",
    "outputs = torch.tensor([-9, -8, 2])"
   ]
  },
  {
   "cell_type": "code",
   "execution_count": 82,
   "id": "missing-diamond",
   "metadata": {},
   "outputs": [
    {
     "name": "stdout",
     "output_type": "stream",
     "text": [
      "epoch 0, w1: tensor([-0.7238], requires_grad=True), w2: tensor([-1.1486], requires_grad=True)\n",
      "epoch 100, w1: tensor([-0.7238], requires_grad=True), w2: tensor([-1.0152], requires_grad=True)\n",
      "epoch 200, w1: tensor([-0.7238], requires_grad=True), w2: tensor([-0.8819], requires_grad=True)\n",
      "epoch 300, w1: tensor([-0.7238], requires_grad=True), w2: tensor([-0.7485], requires_grad=True)\n",
      "epoch 400, w1: tensor([-0.7238], requires_grad=True), w2: tensor([-0.6152], requires_grad=True)\n",
      "epoch 500, w1: tensor([-0.7238], requires_grad=True), w2: tensor([-0.4819], requires_grad=True)\n",
      "epoch 600, w1: tensor([-0.7238], requires_grad=True), w2: tensor([-0.3485], requires_grad=True)\n",
      "epoch 700, w1: tensor([-0.7238], requires_grad=True), w2: tensor([-0.2152], requires_grad=True)\n",
      "epoch 800, w1: tensor([-0.7238], requires_grad=True), w2: tensor([-0.0819], requires_grad=True)\n",
      "epoch 900, w1: tensor([-0.7238], requires_grad=True), w2: tensor([0.0515], requires_grad=True)\n"
     ]
    }
   ],
   "source": [
    "alpha = 0.01\n",
    "epochs = 10\n",
    "for epoch in range(1000):\n",
    "    preds = x * w1**2 - y*w2 - 7\n",
    "    loss = torch.sqrt((outputs - preds)**2).mean()\n",
    "\n",
    "    loss.backward()\n",
    "\n",
    "    with torch.no_grad():\n",
    "        w1 -= alpha * w1.grad\n",
    "        w2 -= alpha * w2.grad\n",
    "\n",
    "    w1.grad.zero_()\n",
    "    w2.grad.zero_()\n",
    "    \n",
    "    if (epoch) % 100 == 0:\n",
    "        print(f'epoch {epoch}, w1: {w1}, w2: {w2}')"
   ]
  },
  {
   "cell_type": "code",
   "execution_count": null,
   "id": "center-netscape",
   "metadata": {},
   "outputs": [],
   "source": []
  }
 ],
 "metadata": {
  "kernelspec": {
   "display_name": "Python 3",
   "language": "python",
   "name": "python3"
  },
  "language_info": {
   "codemirror_mode": {
    "name": "ipython",
    "version": 3
   },
   "file_extension": ".py",
   "mimetype": "text/x-python",
   "name": "python",
   "nbconvert_exporter": "python",
   "pygments_lexer": "ipython3",
   "version": "3.9.2"
  }
 },
 "nbformat": 4,
 "nbformat_minor": 5
}
