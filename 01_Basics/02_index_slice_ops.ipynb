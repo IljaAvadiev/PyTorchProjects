{
 "cells": [
  {
   "cell_type": "markdown",
   "id": "israeli-nerve",
   "metadata": {},
   "source": [
    "# PyTorch Slicing, Joining, Mutating"
   ]
  },
  {
   "cell_type": "code",
   "execution_count": 1,
   "id": "relevant-ukraine",
   "metadata": {},
   "outputs": [],
   "source": [
    "import torch"
   ]
  },
  {
   "cell_type": "markdown",
   "id": "funded-shell",
   "metadata": {},
   "source": [
    "### Indexing"
   ]
  },
  {
   "cell_type": "code",
   "execution_count": 31,
   "id": "above-bronze",
   "metadata": {},
   "outputs": [
    {
     "data": {
      "text/plain": [
       "tensor([2, 3, 4, 5])"
      ]
     },
     "execution_count": 31,
     "metadata": {},
     "output_type": "execute_result"
    }
   ],
   "source": [
    "t = torch.tensor([1, 2, 3, 4, 5, 6, 7, 8])\n",
    "t[1:5]"
   ]
  },
  {
   "cell_type": "markdown",
   "id": "prompt-discrimination",
   "metadata": {},
   "source": [
    "### torch.cat()"
   ]
  },
  {
   "cell_type": "markdown",
   "id": "virgin-czech",
   "metadata": {},
   "source": [
    "#### Concatenation only works along an existing axis"
   ]
  },
  {
   "cell_type": "code",
   "execution_count": 7,
   "id": "negative-moses",
   "metadata": {},
   "outputs": [
    {
     "data": {
      "text/plain": [
       "tensor([1, 2, 3, 4, 5, 6])"
      ]
     },
     "execution_count": 7,
     "metadata": {},
     "output_type": "execute_result"
    }
   ],
   "source": [
    "x = torch.tensor([1, 2, 3])\n",
    "y = torch.tensor([4, 5, 6])\n",
    "\n",
    "torch.cat((x, y), dim=0)"
   ]
  },
  {
   "cell_type": "code",
   "execution_count": 60,
   "id": "miniature-marijuana",
   "metadata": {},
   "outputs": [],
   "source": [
    "x = torch.tensor([[1, 2], [3, 4]])\n",
    "y = torch.tensor([[5, 6], [7, 8]])"
   ]
  },
  {
   "cell_type": "code",
   "execution_count": 11,
   "id": "hearing-bobby",
   "metadata": {},
   "outputs": [
    {
     "data": {
      "text/plain": [
       "tensor([[1, 2],\n",
       "        [3, 4],\n",
       "        [5, 6],\n",
       "        [7, 8]])"
      ]
     },
     "execution_count": 11,
     "metadata": {},
     "output_type": "execute_result"
    }
   ],
   "source": [
    "t1 = torch.cat((x, y), dim=0)\n",
    "t1"
   ]
  },
  {
   "cell_type": "code",
   "execution_count": 13,
   "id": "drawn-infrared",
   "metadata": {},
   "outputs": [
    {
     "data": {
      "text/plain": [
       "tensor([[1, 2, 5, 6],\n",
       "        [3, 4, 7, 8]])"
      ]
     },
     "execution_count": 13,
     "metadata": {},
     "output_type": "execute_result"
    }
   ],
   "source": [
    "t2 = torch.cat((x, y), dim=1)\n",
    "t2"
   ]
  },
  {
   "cell_type": "markdown",
   "id": "under-intake",
   "metadata": {},
   "source": [
    "### torch.gather()"
   ]
  },
  {
   "cell_type": "code",
   "execution_count": 20,
   "id": "accomplished-procurement",
   "metadata": {},
   "outputs": [
    {
     "data": {
      "text/plain": [
       "tensor([[1],\n",
       "        [5],\n",
       "        [9]])"
      ]
     },
     "execution_count": 20,
     "metadata": {},
     "output_type": "execute_result"
    }
   ],
   "source": [
    "# gather values \n",
    "t = torch.tensor([[1, 2, 3], [4, 5, 6], [7, 8, 9]])\n",
    "torch.gather(t, 1, torch.tensor([[0], [1], [2]]))"
   ]
  },
  {
   "cell_type": "markdown",
   "id": "improved-thought",
   "metadata": {},
   "source": [
    "### torch.squeeze() and torch.unsqueeze()"
   ]
  },
  {
   "cell_type": "code",
   "execution_count": 21,
   "id": "tested-river",
   "metadata": {},
   "outputs": [
    {
     "data": {
      "text/plain": [
       "torch.Size([3])"
      ]
     },
     "execution_count": 21,
     "metadata": {},
     "output_type": "execute_result"
    }
   ],
   "source": [
    "t = torch.tensor([1, 2, 3])\n",
    "t.shape"
   ]
  },
  {
   "cell_type": "code",
   "execution_count": 25,
   "id": "sized-multimedia",
   "metadata": {},
   "outputs": [
    {
     "data": {
      "text/plain": [
       "torch.Size([1, 3])"
      ]
     },
     "execution_count": 25,
     "metadata": {},
     "output_type": "execute_result"
    }
   ],
   "source": [
    "#add a new dimension\n",
    "t1 = t.unsqueeze(dim=0)\n",
    "t1.shape"
   ]
  },
  {
   "cell_type": "code",
   "execution_count": 29,
   "id": "cognitive-butler",
   "metadata": {},
   "outputs": [
    {
     "data": {
      "text/plain": [
       "torch.Size([3])"
      ]
     },
     "execution_count": 29,
     "metadata": {},
     "output_type": "execute_result"
    }
   ],
   "source": [
    "# remove a new dimension\n",
    "t2 = t1.squeeze(dim=0)\n",
    "t2.shape"
   ]
  },
  {
   "cell_type": "markdown",
   "id": "institutional-academy",
   "metadata": {},
   "source": [
    "### view"
   ]
  },
  {
   "cell_type": "code",
   "execution_count": 32,
   "id": "marked-anaheim",
   "metadata": {},
   "outputs": [
    {
     "data": {
      "text/plain": [
       "tensor([[1, 2],\n",
       "        [3, 4]])"
      ]
     },
     "execution_count": 32,
     "metadata": {},
     "output_type": "execute_result"
    }
   ],
   "source": [
    "t = torch.tensor([1, 2, 3, 4])\n",
    "t.view((2, 2))"
   ]
  },
  {
   "cell_type": "markdown",
   "id": "quantitative-opportunity",
   "metadata": {},
   "source": [
    "### torch.split()"
   ]
  },
  {
   "cell_type": "code",
   "execution_count": 33,
   "id": "separate-consultation",
   "metadata": {},
   "outputs": [],
   "source": [
    "t = torch.tensor([[1, 2], [3, 4], [5, 6], [7, 8]])"
   ]
  },
  {
   "cell_type": "code",
   "execution_count": 40,
   "id": "comic-conversation",
   "metadata": {},
   "outputs": [],
   "source": [
    "first, second = torch.split(t, 2)"
   ]
  },
  {
   "cell_type": "code",
   "execution_count": 41,
   "id": "ready-testament",
   "metadata": {},
   "outputs": [
    {
     "data": {
      "text/plain": [
       "tensor([[1, 2],\n",
       "        [3, 4]])"
      ]
     },
     "execution_count": 41,
     "metadata": {},
     "output_type": "execute_result"
    }
   ],
   "source": [
    "first"
   ]
  },
  {
   "cell_type": "code",
   "execution_count": 42,
   "id": "annual-factory",
   "metadata": {},
   "outputs": [
    {
     "data": {
      "text/plain": [
       "tensor([[5, 6],\n",
       "        [7, 8]])"
      ]
     },
     "execution_count": 42,
     "metadata": {},
     "output_type": "execute_result"
    }
   ],
   "source": [
    "second"
   ]
  },
  {
   "cell_type": "markdown",
   "id": "russian-protection",
   "metadata": {},
   "source": [
    "### stack, dstack, vstack, hstack"
   ]
  },
  {
   "cell_type": "code",
   "execution_count": 47,
   "id": "sticky-transportation",
   "metadata": {},
   "outputs": [],
   "source": [
    "#stack concatenates along a new dimension\n",
    "t1 = torch.tensor([1, 2, 3])\n",
    "t2 = torch.tensor([4, 5, 6])"
   ]
  },
  {
   "cell_type": "code",
   "execution_count": 48,
   "id": "mediterranean-fortune",
   "metadata": {},
   "outputs": [
    {
     "data": {
      "text/plain": [
       "tensor([[1, 2, 3],\n",
       "        [4, 5, 6]])"
      ]
     },
     "execution_count": 48,
     "metadata": {},
     "output_type": "execute_result"
    }
   ],
   "source": [
    "torch.stack((t1, t2), dim=0)"
   ]
  },
  {
   "cell_type": "code",
   "execution_count": 49,
   "id": "cathedral-january",
   "metadata": {},
   "outputs": [
    {
     "data": {
      "text/plain": [
       "tensor([[1, 4],\n",
       "        [2, 5],\n",
       "        [3, 6]])"
      ]
     },
     "execution_count": 49,
     "metadata": {},
     "output_type": "execute_result"
    }
   ],
   "source": [
    "torch.stack((t1, t2), dim=1)"
   ]
  },
  {
   "cell_type": "markdown",
   "id": "figured-organizer",
   "metadata": {},
   "source": [
    "### torch.t()"
   ]
  },
  {
   "cell_type": "code",
   "execution_count": 53,
   "id": "fatty-medicare",
   "metadata": {},
   "outputs": [
    {
     "data": {
      "text/plain": [
       "tensor([[1, 4],\n",
       "        [2, 5],\n",
       "        [3, 6]])"
      ]
     },
     "execution_count": 53,
     "metadata": {},
     "output_type": "execute_result"
    }
   ],
   "source": [
    "# transposes the 0 and 1 dimension\n",
    "t = torch.tensor([[1,2,3], [4,5,6]])\n",
    "torch.t(t)"
   ]
  },
  {
   "cell_type": "markdown",
   "id": "legislative-stock",
   "metadata": {},
   "source": [
    "### torch.transpose()"
   ]
  },
  {
   "cell_type": "code",
   "execution_count": 54,
   "id": "joined-assets",
   "metadata": {},
   "outputs": [],
   "source": [
    "t = torch.rand(2, 3, 1)"
   ]
  },
  {
   "cell_type": "code",
   "execution_count": 59,
   "id": "conditional-seattle",
   "metadata": {},
   "outputs": [
    {
     "data": {
      "text/plain": [
       "tensor([[[0.5791, 0.0349, 0.9415]],\n",
       "\n",
       "        [[0.9032, 0.5931, 0.7907]]])"
      ]
     },
     "execution_count": 59,
     "metadata": {},
     "output_type": "execute_result"
    }
   ],
   "source": [
    "torch.transpose(t, 2, 1)"
   ]
  },
  {
   "cell_type": "markdown",
   "id": "passing-mobility",
   "metadata": {},
   "source": [
    "### torch.unbind()"
   ]
  },
  {
   "cell_type": "code",
   "execution_count": 62,
   "id": "involved-danish",
   "metadata": {},
   "outputs": [
    {
     "data": {
      "text/plain": [
       "(tensor([1, 4, 7]), tensor([2, 5, 8]), tensor([3, 6, 9]))"
      ]
     },
     "execution_count": 62,
     "metadata": {},
     "output_type": "execute_result"
    }
   ],
   "source": [
    "torch.unbind(torch.tensor([[1,2,3], [4,5,6], [7,8,9]]), dim=1)"
   ]
  },
  {
   "cell_type": "code",
   "execution_count": null,
   "id": "widespread-stable",
   "metadata": {},
   "outputs": [],
   "source": []
  }
 ],
 "metadata": {
  "kernelspec": {
   "display_name": "Python 3",
   "language": "python",
   "name": "python3"
  },
  "language_info": {
   "codemirror_mode": {
    "name": "ipython",
    "version": 3
   },
   "file_extension": ".py",
   "mimetype": "text/x-python",
   "name": "python",
   "nbconvert_exporter": "python",
   "pygments_lexer": "ipython3",
   "version": "3.9.2"
  }
 },
 "nbformat": 4,
 "nbformat_minor": 5
}
